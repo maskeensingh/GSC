{
 "cells": [
  {
   "cell_type": "code",
   "execution_count": 1,
   "metadata": {},
   "outputs": [
    {
     "name": "stderr",
     "output_type": "stream",
     "text": [
      "/var/folders/4l/cj3h6cg96459x67cgqt7pzrr0000gn/T/ipykernel_57390/63995666.py:9: FutureWarning: You are using `torch.load` with `weights_only=False` (the current default value), which uses the default pickle module implicitly. It is possible to construct malicious pickle data which will execute arbitrary code during unpickling (See https://github.com/pytorch/pytorch/blob/main/SECURITY.md#untrusted-models for more details). In a future release, the default value for `weights_only` will be flipped to `True`. This limits the functions that could be executed during unpickling. Arbitrary objects will no longer be allowed to be loaded via this mode unless they are explicitly allowlisted by the user via `torch.serialization.add_safe_globals`. We recommend you start setting `weights_only=True` for any use case where you don't have full control of the loaded file. Please open an issue on GitHub for any issues related to this experimental feature.\n",
      "  model = torch.load('skin_disease_model.pth', map_location=torch.device('cpu'))\n"
     ]
    },
    {
     "ename": "AttributeError",
     "evalue": "'collections.OrderedDict' object has no attribute 'eval'",
     "output_type": "error",
     "traceback": [
      "\u001b[0;31m---------------------------------------------------------------------------\u001b[0m",
      "\u001b[0;31mAttributeError\u001b[0m                            Traceback (most recent call last)",
      "Cell \u001b[0;32mIn[1], line 10\u001b[0m\n\u001b[1;32m      8\u001b[0m \u001b[38;5;66;03m# Load the PyTorch model\u001b[39;00m\n\u001b[1;32m      9\u001b[0m model \u001b[38;5;241m=\u001b[39m torch\u001b[38;5;241m.\u001b[39mload(\u001b[38;5;124m'\u001b[39m\u001b[38;5;124mskin_disease_model.pth\u001b[39m\u001b[38;5;124m'\u001b[39m, map_location\u001b[38;5;241m=\u001b[39mtorch\u001b[38;5;241m.\u001b[39mdevice(\u001b[38;5;124m'\u001b[39m\u001b[38;5;124mcpu\u001b[39m\u001b[38;5;124m'\u001b[39m))\n\u001b[0;32m---> 10\u001b[0m model\u001b[38;5;241m.\u001b[39meval()  \u001b[38;5;66;03m# Set the model to evaluation mode\u001b[39;00m\n\u001b[1;32m     12\u001b[0m \u001b[38;5;66;03m# Define image transformations\u001b[39;00m\n\u001b[1;32m     13\u001b[0m transform \u001b[38;5;241m=\u001b[39m transforms\u001b[38;5;241m.\u001b[39mCompose([\n\u001b[1;32m     14\u001b[0m     transforms\u001b[38;5;241m.\u001b[39mResize((\u001b[38;5;241m128\u001b[39m, \u001b[38;5;241m128\u001b[39m)),  \u001b[38;5;66;03m# Resize to the input size expected by your model\u001b[39;00m\n\u001b[1;32m     15\u001b[0m     transforms\u001b[38;5;241m.\u001b[39mToTensor(),         \u001b[38;5;66;03m# Convert image to a PyTorch tensor\u001b[39;00m\n\u001b[1;32m     16\u001b[0m     transforms\u001b[38;5;241m.\u001b[39mNormalize(mean\u001b[38;5;241m=\u001b[39m[\u001b[38;5;241m0.5\u001b[39m], std\u001b[38;5;241m=\u001b[39m[\u001b[38;5;241m0.5\u001b[39m])  \u001b[38;5;66;03m# Normalize (adjust based on your model training)\u001b[39;00m\n\u001b[1;32m     17\u001b[0m ])\n",
      "\u001b[0;31mAttributeError\u001b[0m: 'collections.OrderedDict' object has no attribute 'eval'"
     ]
    }
   ],
   "source": [
    "from flask import Flask, request, render_template\n",
    "import torch\n",
    "import torchvision.transforms as transforms\n",
    "from PIL import Image\n",
    "\n",
    "app = Flask(__name__)\n",
    "\n",
    "# Load the PyTorch model\n",
    "model = torch.load('skin_disease_model.pth', map_location=torch.device('cpu'))\n",
    "model.eval()  # Set the model to evaluation mode\n",
    "\n",
    "# Define image transformations\n",
    "transform = transforms.Compose([\n",
    "    transforms.Resize((128, 128)),  # Resize to the input size expected by your model\n",
    "    transforms.ToTensor(),         # Convert image to a PyTorch tensor\n",
    "    transforms.Normalize(mean=[0.5], std=[0.5])  # Normalize (adjust based on your model training)\n",
    "])\n",
    "\n",
    "@app.route('/')\n",
    "def home():\n",
    "    return render_template(\"skin_disease_prediction.html\")\n",
    "\n",
    "@app.route('/predict', methods=['POST', 'GET'])\n",
    "def predict():\n",
    "    if 'file' not in request.files:\n",
    "        return render_template('skin_disease_prediction.html', pred='No file uploaded.', action=\"Please upload an image.\")\n",
    "\n",
    "    file = request.files['file']\n",
    "\n",
    "    if file.filename == '':\n",
    "        return render_template('skin_disease_prediction.html', pred='No file selected.', action=\"Please upload an image.\")\n",
    "\n",
    "    try:\n",
    "        # Open the uploaded image\n",
    "        img = Image.open(file).convert('RGB')\n",
    "\n",
    "        # Apply the transformations\n",
    "        img = transform(img)\n",
    "        img = img.unsqueeze(0)  # Add batch dimension (1, C, H, W)\n",
    "\n",
    "        # Predict using the model\n",
    "        with torch.no_grad():\n",
    "            outputs = model(img)\n",
    "            _, predicted = torch.max(outputs, 1)  # Get the class index with the highest score\n",
    "\n",
    "        # Map the prediction to a disease label\n",
    "        disease_mapping = {0: \"Eczema\", 1: \"Psoriasis\", 2: \"Melanoma\"}  # Adjust based on your model's classes\n",
    "        disease = disease_mapping.get(predicted.item(), \"Unknown disease\")\n",
    "\n",
    "        return render_template('skin_disease_prediction.html', \n",
    "                               pred=f'The model predicts the disease as: {disease}', \n",
    "                               action=\"Please consult a dermatologist for further guidance.\")\n",
    "    except Exception as e:\n",
    "        return render_template('skin_disease_prediction.html', \n",
    "                               pred=f'Error processing image: {str(e)}', \n",
    "                               action=\"Please try again with a valid image.\")\n",
    "\n",
    "if __name__ == '__main__':\n",
    "    app.run(debug=True)\n"
   ]
  },
  {
   "cell_type": "code",
   "execution_count": null,
   "metadata": {},
   "outputs": [],
   "source": []
  }
 ],
 "metadata": {
  "kernelspec": {
   "display_name": "base",
   "language": "python",
   "name": "python3"
  },
  "language_info": {
   "codemirror_mode": {
    "name": "ipython",
    "version": 3
   },
   "file_extension": ".py",
   "mimetype": "text/x-python",
   "name": "python",
   "nbconvert_exporter": "python",
   "pygments_lexer": "ipython3",
   "version": "3.12.7"
  }
 },
 "nbformat": 4,
 "nbformat_minor": 2
}
