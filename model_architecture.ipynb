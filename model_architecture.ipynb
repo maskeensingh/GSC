{
 "cells": [
  {
   "cell_type": "code",
   "execution_count": 1,
   "metadata": {},
   "outputs": [],
   "source": [
    "# model_architecture.py\n",
    "\n",
    "import torch.nn as nn\n",
    "import torchvision.models as models\n",
    "\n",
    "def get_model(num_classes=10):\n",
    "    \"\"\"\n",
    "    Initializes and returns a ResNet18 model modified for the specified number of classes.\n",
    "    \n",
    "    Args:\n",
    "        num_classes (int): Number of output classes.\n",
    "        \n",
    "    Returns:\n",
    "        model (nn.Module): Modified ResNet18 model.\n",
    "    \"\"\"\n",
    "    # Initialize a ResNet18 model (pretrained=False means random initialization)\n",
    "    model = models.resnet18(pretrained=False)\n",
    "    \n",
    "    # Replace the final fully connected layer to match the number of classes\n",
    "    num_ftrs = model.fc.in_features\n",
    "    model.fc = nn.Linear(num_ftrs, num_classes)\n",
    "    \n",
    "    return model\n"
   ]
  },
  {
   "cell_type": "code",
   "execution_count": null,
   "metadata": {},
   "outputs": [],
   "source": []
  }
 ],
 "metadata": {
  "kernelspec": {
   "display_name": "base",
   "language": "python",
   "name": "python3"
  },
  "language_info": {
   "codemirror_mode": {
    "name": "ipython",
    "version": 3
   },
   "file_extension": ".py",
   "mimetype": "text/x-python",
   "name": "python",
   "nbconvert_exporter": "python",
   "pygments_lexer": "ipython3",
   "version": "3.12.7"
  }
 },
 "nbformat": 4,
 "nbformat_minor": 2
}
